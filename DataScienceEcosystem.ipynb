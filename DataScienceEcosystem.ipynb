{
  "metadata": {
    "language_info": {
      "codemirror_mode": {
        "name": "python",
        "version": 3
      },
      "file_extension": ".py",
      "mimetype": "text/x-python",
      "name": "python",
      "nbconvert_exporter": "python",
      "pygments_lexer": "ipython3",
      "version": "3.8"
    },
    "kernelspec": {
      "name": "python",
      "display_name": "Python (Pyodide)",
      "language": "python"
    }
  },
  "nbformat_minor": 4,
  "nbformat": 4,
  "cells": [
    {
      "cell_type": "markdown",
      "source": "# Data science Ecosystem",
      "metadata": {}
    },
    {
      "cell_type": "markdown",
      "source": "# introduction :\n this overview of data science languages, libraries and tools ",
      "metadata": {}
    },
    {
      "cell_type": "markdown",
      "source": "# objectives\n* identify the languages that we will learn to be useful for the data scientist's \n* identify the tools for data scientist's \n* identify the libiraries that we can use \n* identify and be familier with jupyter notebooks and jupyterlab \n* identify RStudio and GitHub",
      "metadata": {}
    },
    {
      "cell_type": "markdown",
      "source": "# Data Science languages :\n### here some of popular Data Science languages that used by the data scientists \n<p> 1- Python <br>\n<p> 2- R <br>\n<p> 3- SQL <br>\n<p> 4- Scala <br>\n<p> 5- Java <br>\n<p> 6- C++ <br>\n<p> 7- Julia <br>\n<p> 8- JavaScript <br>\n<p> 9- PHP <br>\n<p> 10- Go <br>\n<p> 11- Ruby <br>\n<p> 12- Visual Basic <br>",
      "metadata": {}
    },
    {
      "cell_type": "markdown",
      "source": "# Data science libriaies :\n### here some of the commonly used libraries used by data scientists\n<p> 1- Pandas <br>\n<p> 2- NumPy <br>\n<p> 3- Matplotlib <br>\n<p> 4- package <br>\n<p> 5- Seaborn <br>\n<p> 6- Scikit-learn <br>\n<p> 7- Keras <br>\n<p> 8- TensorFlow <br>\n<p> 9- Pytorch <br>\n<p> 10- Apache Spark <br>\n<p> 12- Vegas <br>\n<p> 13- big DL <br>\n<p> 14- ggplot2 <br>",
      "metadata": {}
    },
    {
      "cell_type": "markdown",
      "source": "| data Science Tools |\n|------------------|\n| Anaconda |\n| jupyter Notebooks |\n| R Studio |\n| spyder |\n| Zeppelin |\n| MYSQL |\n| PostgreSQL |\n| MongoDB |\n| Apache CouchDB |\n| Apache Cassandra |\n| Hadoop File system |\n| Ceph |\n| Apache Airflow |\n| Kubeflow |\n| Apache Kafka |\n| Apache Nifi |\n| NodeRED |\n| Pixi Dust |\n| Hue |\n| Kibana |\n| Apache superset |\n| Apache PredictionalO |\n| Seldon |\n| Kubernetes |\n| Redhat OpenShift |\n| Mleap |\n| TensorFlow service |\n| TenserFlow.JS |\n| ModleDB |\n| Prometheus |\n| IBM AI Fairness 360 |\n| IBM AI Explainability 360 |\n| Git |\n| GitHub |\n| GitLab |\n| Bitbucket |\n| Apache Atlas |\n| ODPi Egeria |\n| Kylo |",
      "metadata": {}
    },
    {
      "cell_type": "markdown",
      "source": "### Below are a few examples of vealuating arithmetic expression examples :\n\n<p> 5 <br>\n<p> (7+11) <br>\n<p> (23*4) <br>\n<p> (8-3) <br>",
      "metadata": {}
    },
    {
      "cell_type": "code",
      "source": "# this is a simple arithmetic expression to mutiply then add integers\n\n(3*4)+5",
      "metadata": {
        "trusted": true
      },
      "execution_count": 6,
      "outputs": [
        {
          "execution_count": 6,
          "output_type": "execute_result",
          "data": {
            "text/plain": "17"
          },
          "metadata": {}
        }
      ]
    },
    {
      "cell_type": "code",
      "source": "# this will convert 200 minutes to hours by dividing by 60\nminutes = 200\n(200/60)",
      "metadata": {
        "trusted": true
      },
      "execution_count": 11,
      "outputs": [
        {
          "execution_count": 11,
          "output_type": "execute_result",
          "data": {
            "text/plain": "3.3333333333333335"
          },
          "metadata": {}
        }
      ]
    },
    {
      "cell_type": "markdown",
      "source": "# Author(s)\n<p> salah Elmagdoub <br>\n<p> Lakshmi Holla <br>\n<p> Niveditha Pandith <br>",
      "metadata": {}
    }
  ]
}